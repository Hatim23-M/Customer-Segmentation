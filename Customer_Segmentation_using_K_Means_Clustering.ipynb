{
  "nbformat": 4,
  "nbformat_minor": 0,
  "metadata": {
    "colab": {
      "provenance": [],
      "authorship_tag": "ABX9TyNGcy0b3V4xbX/yCOP1VQg3",
      "include_colab_link": true
    },
    "kernelspec": {
      "name": "python3",
      "display_name": "Python 3"
    },
    "language_info": {
      "name": "python"
    }
  },
  "cells": [
    {
      "cell_type": "markdown",
      "metadata": {
        "id": "view-in-github",
        "colab_type": "text"
      },
      "source": [
        "<a href=\"https://colab.research.google.com/github/Hatim23-M/Customer-Segmentation/blob/main/Customer_Segmentation_using_K_Means_Clustering.ipynb\" target=\"_parent\"><img src=\"https://colab.research.google.com/assets/colab-badge.svg\" alt=\"Open In Colab\"/></a>"
      ]
    },
    {
      "cell_type": "markdown",
      "source": [
        "Importing the Dependencies."
      ],
      "metadata": {
        "id": "Da51mHkESZ7U"
      }
    },
    {
      "cell_type": "code",
      "execution_count": null,
      "metadata": {
        "id": "tq9NUvh5SNLz"
      },
      "outputs": [],
      "source": [
        "import numpy as np\n",
        "import pandas as pd\n",
        "import matplotlib.pyplot as plt\n",
        "import seaborn as sns\n",
        "from sklearn.cluster import KMeans # We will use this to create clusters in our dataset"
      ]
    },
    {
      "cell_type": "markdown",
      "source": [
        "Data Collection and Analysis."
      ],
      "metadata": {
        "id": "FJDX8rEuTBnM"
      }
    },
    {
      "cell_type": "code",
      "source": [
        "customer_data = pd.read_csv('/content/Customer.csv')"
      ],
      "metadata": {
        "id": "VOgzJmW0SpWA"
      },
      "execution_count": null,
      "outputs": []
    },
    {
      "cell_type": "code",
      "source": [
        "customer_data.head()"
      ],
      "metadata": {
        "colab": {
          "base_uri": "https://localhost:8080/",
          "height": 206
        },
        "id": "2ahxyMVATKSP",
        "outputId": "6c90c0b8-addf-4691-feb0-c1f887eadb5f"
      },
      "execution_count": null,
      "outputs": [
        {
          "output_type": "execute_result",
          "data": {
            "text/plain": [
              "   CustomerID  Gender  Age  Annual Income (k$)  Spending Score (1-100)\n",
              "0           1    Male   19                  15                      39\n",
              "1           2    Male   21                  15                      81\n",
              "2           3  Female   20                  16                       6\n",
              "3           4  Female   23                  16                      77\n",
              "4           5  Female   31                  17                      40"
            ],
            "text/html": [
              "\n",
              "  <div id=\"df-8238d7ec-81f1-4513-91ff-f43dabacfbb8\">\n",
              "    <div class=\"colab-df-container\">\n",
              "      <div>\n",
              "<style scoped>\n",
              "    .dataframe tbody tr th:only-of-type {\n",
              "        vertical-align: middle;\n",
              "    }\n",
              "\n",
              "    .dataframe tbody tr th {\n",
              "        vertical-align: top;\n",
              "    }\n",
              "\n",
              "    .dataframe thead th {\n",
              "        text-align: right;\n",
              "    }\n",
              "</style>\n",
              "<table border=\"1\" class=\"dataframe\">\n",
              "  <thead>\n",
              "    <tr style=\"text-align: right;\">\n",
              "      <th></th>\n",
              "      <th>CustomerID</th>\n",
              "      <th>Gender</th>\n",
              "      <th>Age</th>\n",
              "      <th>Annual Income (k$)</th>\n",
              "      <th>Spending Score (1-100)</th>\n",
              "    </tr>\n",
              "  </thead>\n",
              "  <tbody>\n",
              "    <tr>\n",
              "      <th>0</th>\n",
              "      <td>1</td>\n",
              "      <td>Male</td>\n",
              "      <td>19</td>\n",
              "      <td>15</td>\n",
              "      <td>39</td>\n",
              "    </tr>\n",
              "    <tr>\n",
              "      <th>1</th>\n",
              "      <td>2</td>\n",
              "      <td>Male</td>\n",
              "      <td>21</td>\n",
              "      <td>15</td>\n",
              "      <td>81</td>\n",
              "    </tr>\n",
              "    <tr>\n",
              "      <th>2</th>\n",
              "      <td>3</td>\n",
              "      <td>Female</td>\n",
              "      <td>20</td>\n",
              "      <td>16</td>\n",
              "      <td>6</td>\n",
              "    </tr>\n",
              "    <tr>\n",
              "      <th>3</th>\n",
              "      <td>4</td>\n",
              "      <td>Female</td>\n",
              "      <td>23</td>\n",
              "      <td>16</td>\n",
              "      <td>77</td>\n",
              "    </tr>\n",
              "    <tr>\n",
              "      <th>4</th>\n",
              "      <td>5</td>\n",
              "      <td>Female</td>\n",
              "      <td>31</td>\n",
              "      <td>17</td>\n",
              "      <td>40</td>\n",
              "    </tr>\n",
              "  </tbody>\n",
              "</table>\n",
              "</div>\n",
              "      <button class=\"colab-df-convert\" onclick=\"convertToInteractive('df-8238d7ec-81f1-4513-91ff-f43dabacfbb8')\"\n",
              "              title=\"Convert this dataframe to an interactive table.\"\n",
              "              style=\"display:none;\">\n",
              "        \n",
              "  <svg xmlns=\"http://www.w3.org/2000/svg\" height=\"24px\"viewBox=\"0 0 24 24\"\n",
              "       width=\"24px\">\n",
              "    <path d=\"M0 0h24v24H0V0z\" fill=\"none\"/>\n",
              "    <path d=\"M18.56 5.44l.94 2.06.94-2.06 2.06-.94-2.06-.94-.94-2.06-.94 2.06-2.06.94zm-11 1L8.5 8.5l.94-2.06 2.06-.94-2.06-.94L8.5 2.5l-.94 2.06-2.06.94zm10 10l.94 2.06.94-2.06 2.06-.94-2.06-.94-.94-2.06-.94 2.06-2.06.94z\"/><path d=\"M17.41 7.96l-1.37-1.37c-.4-.4-.92-.59-1.43-.59-.52 0-1.04.2-1.43.59L10.3 9.45l-7.72 7.72c-.78.78-.78 2.05 0 2.83L4 21.41c.39.39.9.59 1.41.59.51 0 1.02-.2 1.41-.59l7.78-7.78 2.81-2.81c.8-.78.8-2.07 0-2.86zM5.41 20L4 18.59l7.72-7.72 1.47 1.35L5.41 20z\"/>\n",
              "  </svg>\n",
              "      </button>\n",
              "      \n",
              "  <style>\n",
              "    .colab-df-container {\n",
              "      display:flex;\n",
              "      flex-wrap:wrap;\n",
              "      gap: 12px;\n",
              "    }\n",
              "\n",
              "    .colab-df-convert {\n",
              "      background-color: #E8F0FE;\n",
              "      border: none;\n",
              "      border-radius: 50%;\n",
              "      cursor: pointer;\n",
              "      display: none;\n",
              "      fill: #1967D2;\n",
              "      height: 32px;\n",
              "      padding: 0 0 0 0;\n",
              "      width: 32px;\n",
              "    }\n",
              "\n",
              "    .colab-df-convert:hover {\n",
              "      background-color: #E2EBFA;\n",
              "      box-shadow: 0px 1px 2px rgba(60, 64, 67, 0.3), 0px 1px 3px 1px rgba(60, 64, 67, 0.15);\n",
              "      fill: #174EA6;\n",
              "    }\n",
              "\n",
              "    [theme=dark] .colab-df-convert {\n",
              "      background-color: #3B4455;\n",
              "      fill: #D2E3FC;\n",
              "    }\n",
              "\n",
              "    [theme=dark] .colab-df-convert:hover {\n",
              "      background-color: #434B5C;\n",
              "      box-shadow: 0px 1px 3px 1px rgba(0, 0, 0, 0.15);\n",
              "      filter: drop-shadow(0px 1px 2px rgba(0, 0, 0, 0.3));\n",
              "      fill: #FFFFFF;\n",
              "    }\n",
              "  </style>\n",
              "\n",
              "      <script>\n",
              "        const buttonEl =\n",
              "          document.querySelector('#df-8238d7ec-81f1-4513-91ff-f43dabacfbb8 button.colab-df-convert');\n",
              "        buttonEl.style.display =\n",
              "          google.colab.kernel.accessAllowed ? 'block' : 'none';\n",
              "\n",
              "        async function convertToInteractive(key) {\n",
              "          const element = document.querySelector('#df-8238d7ec-81f1-4513-91ff-f43dabacfbb8');\n",
              "          const dataTable =\n",
              "            await google.colab.kernel.invokeFunction('convertToInteractive',\n",
              "                                                     [key], {});\n",
              "          if (!dataTable) return;\n",
              "\n",
              "          const docLinkHtml = 'Like what you see? Visit the ' +\n",
              "            '<a target=\"_blank\" href=https://colab.research.google.com/notebooks/data_table.ipynb>data table notebook</a>'\n",
              "            + ' to learn more about interactive tables.';\n",
              "          element.innerHTML = '';\n",
              "          dataTable['output_type'] = 'display_data';\n",
              "          await google.colab.output.renderOutput(dataTable, element);\n",
              "          const docLink = document.createElement('div');\n",
              "          docLink.innerHTML = docLinkHtml;\n",
              "          element.appendChild(docLink);\n",
              "        }\n",
              "      </script>\n",
              "    </div>\n",
              "  </div>\n",
              "  "
            ]
          },
          "metadata": {},
          "execution_count": 3
        }
      ]
    },
    {
      "cell_type": "code",
      "source": [
        "customer_data.shape"
      ],
      "metadata": {
        "colab": {
          "base_uri": "https://localhost:8080/"
        },
        "id": "bljJC7kPTRr2",
        "outputId": "1b2c25f4-2e51-4492-a05e-373a9780f42b"
      },
      "execution_count": null,
      "outputs": [
        {
          "output_type": "execute_result",
          "data": {
            "text/plain": [
              "(200, 5)"
            ]
          },
          "metadata": {},
          "execution_count": 4
        }
      ]
    },
    {
      "cell_type": "code",
      "source": [
        "customer_data.info()"
      ],
      "metadata": {
        "colab": {
          "base_uri": "https://localhost:8080/"
        },
        "id": "nNPx8K0oTV6X",
        "outputId": "8c65bbd8-a678-4490-824e-c312476a1625"
      },
      "execution_count": null,
      "outputs": [
        {
          "output_type": "stream",
          "name": "stdout",
          "text": [
            "<class 'pandas.core.frame.DataFrame'>\n",
            "RangeIndex: 200 entries, 0 to 199\n",
            "Data columns (total 5 columns):\n",
            " #   Column                  Non-Null Count  Dtype \n",
            "---  ------                  --------------  ----- \n",
            " 0   CustomerID              200 non-null    int64 \n",
            " 1   Gender                  200 non-null    object\n",
            " 2   Age                     200 non-null    int64 \n",
            " 3   Annual Income (k$)      200 non-null    int64 \n",
            " 4   Spending Score (1-100)  200 non-null    int64 \n",
            "dtypes: int64(4), object(1)\n",
            "memory usage: 7.9+ KB\n"
          ]
        }
      ]
    },
    {
      "cell_type": "code",
      "source": [
        "customer_data.isnull().sum()"
      ],
      "metadata": {
        "colab": {
          "base_uri": "https://localhost:8080/"
        },
        "id": "nU6irYbqTYwO",
        "outputId": "2b6356d8-033c-43b5-c76b-4a998ee8e1ce"
      },
      "execution_count": null,
      "outputs": [
        {
          "output_type": "execute_result",
          "data": {
            "text/plain": [
              "CustomerID                0\n",
              "Gender                    0\n",
              "Age                       0\n",
              "Annual Income (k$)        0\n",
              "Spending Score (1-100)    0\n",
              "dtype: int64"
            ]
          },
          "metadata": {},
          "execution_count": 6
        }
      ]
    },
    {
      "cell_type": "markdown",
      "source": [
        "Choosing the Annual Income and Spending Score column."
      ],
      "metadata": {
        "id": "2iMPJ4Q4UCiL"
      }
    },
    {
      "cell_type": "code",
      "source": [
        "X = customer_data.iloc[:,[3,4]].values"
      ],
      "metadata": {
        "id": "ENk38WepTdVF"
      },
      "execution_count": null,
      "outputs": []
    },
    {
      "cell_type": "code",
      "source": [
        "print(X)"
      ],
      "metadata": {
        "colab": {
          "base_uri": "https://localhost:8080/"
        },
        "id": "bi5S8sEHUnSv",
        "outputId": "76d09c5b-f6a2-4c5d-8ba7-f4150f2e6922"
      },
      "execution_count": null,
      "outputs": [
        {
          "output_type": "stream",
          "name": "stdout",
          "text": [
            "[[ 15  39]\n",
            " [ 15  81]\n",
            " [ 16   6]\n",
            " [ 16  77]\n",
            " [ 17  40]\n",
            " [ 17  76]\n",
            " [ 18   6]\n",
            " [ 18  94]\n",
            " [ 19   3]\n",
            " [ 19  72]\n",
            " [ 19  14]\n",
            " [ 19  99]\n",
            " [ 20  15]\n",
            " [ 20  77]\n",
            " [ 20  13]\n",
            " [ 20  79]\n",
            " [ 21  35]\n",
            " [ 21  66]\n",
            " [ 23  29]\n",
            " [ 23  98]\n",
            " [ 24  35]\n",
            " [ 24  73]\n",
            " [ 25   5]\n",
            " [ 25  73]\n",
            " [ 28  14]\n",
            " [ 28  82]\n",
            " [ 28  32]\n",
            " [ 28  61]\n",
            " [ 29  31]\n",
            " [ 29  87]\n",
            " [ 30   4]\n",
            " [ 30  73]\n",
            " [ 33   4]\n",
            " [ 33  92]\n",
            " [ 33  14]\n",
            " [ 33  81]\n",
            " [ 34  17]\n",
            " [ 34  73]\n",
            " [ 37  26]\n",
            " [ 37  75]\n",
            " [ 38  35]\n",
            " [ 38  92]\n",
            " [ 39  36]\n",
            " [ 39  61]\n",
            " [ 39  28]\n",
            " [ 39  65]\n",
            " [ 40  55]\n",
            " [ 40  47]\n",
            " [ 40  42]\n",
            " [ 40  42]\n",
            " [ 42  52]\n",
            " [ 42  60]\n",
            " [ 43  54]\n",
            " [ 43  60]\n",
            " [ 43  45]\n",
            " [ 43  41]\n",
            " [ 44  50]\n",
            " [ 44  46]\n",
            " [ 46  51]\n",
            " [ 46  46]\n",
            " [ 46  56]\n",
            " [ 46  55]\n",
            " [ 47  52]\n",
            " [ 47  59]\n",
            " [ 48  51]\n",
            " [ 48  59]\n",
            " [ 48  50]\n",
            " [ 48  48]\n",
            " [ 48  59]\n",
            " [ 48  47]\n",
            " [ 49  55]\n",
            " [ 49  42]\n",
            " [ 50  49]\n",
            " [ 50  56]\n",
            " [ 54  47]\n",
            " [ 54  54]\n",
            " [ 54  53]\n",
            " [ 54  48]\n",
            " [ 54  52]\n",
            " [ 54  42]\n",
            " [ 54  51]\n",
            " [ 54  55]\n",
            " [ 54  41]\n",
            " [ 54  44]\n",
            " [ 54  57]\n",
            " [ 54  46]\n",
            " [ 57  58]\n",
            " [ 57  55]\n",
            " [ 58  60]\n",
            " [ 58  46]\n",
            " [ 59  55]\n",
            " [ 59  41]\n",
            " [ 60  49]\n",
            " [ 60  40]\n",
            " [ 60  42]\n",
            " [ 60  52]\n",
            " [ 60  47]\n",
            " [ 60  50]\n",
            " [ 61  42]\n",
            " [ 61  49]\n",
            " [ 62  41]\n",
            " [ 62  48]\n",
            " [ 62  59]\n",
            " [ 62  55]\n",
            " [ 62  56]\n",
            " [ 62  42]\n",
            " [ 63  50]\n",
            " [ 63  46]\n",
            " [ 63  43]\n",
            " [ 63  48]\n",
            " [ 63  52]\n",
            " [ 63  54]\n",
            " [ 64  42]\n",
            " [ 64  46]\n",
            " [ 65  48]\n",
            " [ 65  50]\n",
            " [ 65  43]\n",
            " [ 65  59]\n",
            " [ 67  43]\n",
            " [ 67  57]\n",
            " [ 67  56]\n",
            " [ 67  40]\n",
            " [ 69  58]\n",
            " [ 69  91]\n",
            " [ 70  29]\n",
            " [ 70  77]\n",
            " [ 71  35]\n",
            " [ 71  95]\n",
            " [ 71  11]\n",
            " [ 71  75]\n",
            " [ 71   9]\n",
            " [ 71  75]\n",
            " [ 72  34]\n",
            " [ 72  71]\n",
            " [ 73   5]\n",
            " [ 73  88]\n",
            " [ 73   7]\n",
            " [ 73  73]\n",
            " [ 74  10]\n",
            " [ 74  72]\n",
            " [ 75   5]\n",
            " [ 75  93]\n",
            " [ 76  40]\n",
            " [ 76  87]\n",
            " [ 77  12]\n",
            " [ 77  97]\n",
            " [ 77  36]\n",
            " [ 77  74]\n",
            " [ 78  22]\n",
            " [ 78  90]\n",
            " [ 78  17]\n",
            " [ 78  88]\n",
            " [ 78  20]\n",
            " [ 78  76]\n",
            " [ 78  16]\n",
            " [ 78  89]\n",
            " [ 78   1]\n",
            " [ 78  78]\n",
            " [ 78   1]\n",
            " [ 78  73]\n",
            " [ 79  35]\n",
            " [ 79  83]\n",
            " [ 81   5]\n",
            " [ 81  93]\n",
            " [ 85  26]\n",
            " [ 85  75]\n",
            " [ 86  20]\n",
            " [ 86  95]\n",
            " [ 87  27]\n",
            " [ 87  63]\n",
            " [ 87  13]\n",
            " [ 87  75]\n",
            " [ 87  10]\n",
            " [ 87  92]\n",
            " [ 88  13]\n",
            " [ 88  86]\n",
            " [ 88  15]\n",
            " [ 88  69]\n",
            " [ 93  14]\n",
            " [ 93  90]\n",
            " [ 97  32]\n",
            " [ 97  86]\n",
            " [ 98  15]\n",
            " [ 98  88]\n",
            " [ 99  39]\n",
            " [ 99  97]\n",
            " [101  24]\n",
            " [101  68]\n",
            " [103  17]\n",
            " [103  85]\n",
            " [103  23]\n",
            " [103  69]\n",
            " [113   8]\n",
            " [113  91]\n",
            " [120  16]\n",
            " [120  79]\n",
            " [126  28]\n",
            " [126  74]\n",
            " [137  18]\n",
            " [137  83]]\n"
          ]
        }
      ]
    },
    {
      "cell_type": "markdown",
      "source": [
        "Choosing the number of clusters."
      ],
      "metadata": {
        "id": "OLkAn_q2UXIW"
      }
    },
    {
      "cell_type": "markdown",
      "source": [
        "WCSS --> Within Clusters Sum of Squares.  (We do not know the optimum number of clusters and hence we are using this parameter to find the optimum number of clusters for our dataset).\n"
      ],
      "metadata": {
        "id": "ppKmo4vkUx_S"
      }
    },
    {
      "cell_type": "code",
      "source": [
        "# Finding the wcss values for different clusters. so what we do is check the wcss values from 1 cluster to 10 clusters and the one that has the minimum wcss\n",
        "# value is chosen as a cluster\n",
        "\n",
        "wcss = []\n",
        "\n",
        "for i in range (1, 11):\n",
        "  kmeans = KMeans(n_clusters = i, init = 'k-means++', random_state = 42) # we are using k-means++ as initiation method. There are other ways to do that to.\n",
        "  kmeans.fit(X)\n",
        "\n",
        "  wcss.append(kmeans.inertia_) #kmeans.inertia gives us the wcss value for each cluster.. and then we are appending those values in a list."
      ],
      "metadata": {
        "id": "mRkQHuVGUTZ2"
      },
      "execution_count": null,
      "outputs": []
    },
    {
      "cell_type": "code",
      "source": [
        "# plot an elbow graph\n",
        "\n",
        "sns.set()\n",
        "plt.plot(range(1, 11), wcss)\n",
        "plt.title('Elbow Point Graph')\n",
        "plt.xlabel('Number of clusters')\n",
        "plt.ylabel('WCSS Values')\n",
        "plt.show()"
      ],
      "metadata": {
        "colab": {
          "base_uri": "https://localhost:8080/",
          "height": 301
        },
        "id": "rukASNZGXa11",
        "outputId": "6555e811-5e60-4f81-e877-6957e85d6a2e"
      },
      "execution_count": null,
      "outputs": [
        {
          "output_type": "display_data",
          "data": {
            "text/plain": [
              "<Figure size 432x288 with 1 Axes>"
            ],
            "image/png": "[encoded data removed]"
          },
          "metadata": {}
        }
      ]
    },
    {
      "cell_type": "markdown",
      "source": [
        "There are two elbow points. At 3 and 5. We choose 5 because after that there is no sudden and significance decrease in the value."
      ],
      "metadata": {
        "id": "sSNpz1ekYLOX"
      }
    },
    {
      "cell_type": "markdown",
      "source": [
        "Training the K-Means Clustering Model."
      ],
      "metadata": {
        "id": "bCNNKpinYUT3"
      }
    },
    {
      "cell_type": "code",
      "source": [
        "kmeans = KMeans(n_clusters = 5, init = 'k-means++', random_state = 0)\n",
        "\n",
        "# return a label for each datapoint based on their cluster\n",
        "Y = kmeans.fit_predict(X)\n",
        "\n",
        "print(Y)"
      ],
      "metadata": {
        "colab": {
          "base_uri": "https://localhost:8080/"
        },
        "id": "P47f2TAlX6Le",
        "outputId": "8d8c5ccc-5d96-4922-e1ea-12abcd8d6bd4"
      },
      "execution_count": null,
      "outputs": [
        {
          "output_type": "stream",
          "name": "stdout",
          "text": [
            "[4 3 4 3 4 3 4 3 4 3 4 3 4 3 4 3 4 3 4 3 4 3 4 3 4 3 4 3 4 3 4 3 4 3 4 3 4\n",
            " 3 4 3 4 3 4 1 4 3 1 1 1 1 1 1 1 1 1 1 1 1 1 1 1 1 1 1 1 1 1 1 1 1 1 1 1 1\n",
            " 1 1 1 1 1 1 1 1 1 1 1 1 1 1 1 1 1 1 1 1 1 1 1 1 1 1 1 1 1 1 1 1 1 1 1 1 1\n",
            " 1 1 1 1 1 1 1 1 1 1 1 1 2 0 2 1 2 0 2 0 2 1 2 0 2 0 2 0 2 0 2 1 2 0 2 0 2\n",
            " 0 2 0 2 0 2 0 2 0 2 0 2 0 2 0 2 0 2 0 2 0 2 0 2 0 2 0 2 0 2 0 2 0 2 0 2 0\n",
            " 2 0 2 0 2 0 2 0 2 0 2 0 2 0 2]\n"
          ]
        }
      ]
    },
    {
      "cell_type": "markdown",
      "source": [
        "5 Clusters - 0, 1, 2, 3, 4, 5."
      ],
      "metadata": {
        "id": "7Uotn5kXY1oM"
      }
    },
    {
      "cell_type": "markdown",
      "source": [
        "Visualising the Clusters."
      ],
      "metadata": {
        "id": "c5AtNwQEY7en"
      }
    },
    {
      "cell_type": "code",
      "source": [
        "# Plotting all the clusters with their centroid.\n",
        "\n",
        "plt.figure(figsize = (8, 8))\n",
        "plt.scatter(X[Y == 0, 0], X[Y == 0, 1], s=50, c = 'green', label = 'Cluster 1')\n",
        "plt.scatter(X[Y == 1, 0], X[Y == 1, 1], s=50, c = 'red', label = 'Cluster 2')\n",
        "plt.scatter(X[Y == 2, 0], X[Y == 2, 1], s=50, c = 'yellow', label = 'Cluster 3')\n",
        "plt.scatter(X[Y == 3, 0], X[Y == 3, 1], s=50, c = 'violet', label = 'Cluster 4')\n",
        "plt.scatter(X[Y == 4, 0], X[Y == 4, 1], s=50, c = 'blue', label = 'Cluster 5')\n",
        "\n",
        "# X[Y==0,0] the first 0 chooses the value of the cluster.. second zero chooses the value in the first column of the dataset -- X\n",
        "# s represents the marker size\n",
        "\n",
        "# Plot the Centroids\n",
        "plt.scatter(kmeans.cluster_centers_[:, 0], kmeans.cluster_centers_[:, 1], s = 100, c = 'cyan', label = 'Centroids')\n",
        "\n",
        "plt.title('Customer Groups')\n",
        "plt.xlabel('Annual Income')\n",
        "plt.ylabel('Spending Score')\n",
        "plt.show()"
      ],
      "metadata": {
        "colab": {
          "base_uri": "https://localhost:8080/",
          "height": 518
        },
        "id": "do5pZz47YxIs",
        "outputId": "00a8253d-db10-4eed-d1d4-031a3e9ece02"
      },
      "execution_count": null,
      "outputs": [
        {
          "output_type": "display_data",
          "data": {
            "text/plain": [
              "<Figure size 576x576 with 1 Axes>"
            ],
            "image/png": "[encoded data removed]"
          },
          "metadata": {}
        }
      ]
    }
  ]
}